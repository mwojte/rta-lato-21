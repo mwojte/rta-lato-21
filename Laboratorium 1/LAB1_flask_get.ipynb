{
 "cells": [
  {
   "cell_type": "code",
   "execution_count": null,
   "id": "sunset-utility",
   "metadata": {},
   "outputs": [],
   "source": [
    "!pip install requests"
   ]
  },
  {
   "cell_type": "code",
   "execution_count": null,
   "id": "positive-wheel",
   "metadata": {},
   "outputs": [],
   "source": [
    "import requests\n",
    "response = requests.get(\"http://127.0.0.1:5000/api/v1.0/predict?&sl=85&pl=154\")\n",
    "print(response.content)"
   ]
  },
  {
   "cell_type": "markdown",
   "id": "automated-briefs",
   "metadata": {},
   "source": [
    ">Zadanie domowe - wytrenuj nowy model, oprzyj się tym razem na wszystkich 4 zmiennych i zmodyfikuj aplikację tak, aby można było do niej przekazać wszytskie informacje."
   ]
  }
 ],
 "metadata": {
  "kernelspec": {
   "display_name": "Python 3",
   "language": "python",
   "name": "python3"
  },
  "language_info": {
   "codemirror_mode": {
    "name": "ipython",
    "version": 3
   },
   "file_extension": ".py",
   "mimetype": "text/x-python",
   "name": "python",
   "nbconvert_exporter": "python",
   "pygments_lexer": "ipython3",
   "version": "3.6.13"
  }
 },
 "nbformat": 4,
 "nbformat_minor": 5
}
