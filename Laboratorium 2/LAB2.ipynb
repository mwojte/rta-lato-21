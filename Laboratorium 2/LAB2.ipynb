{
 "cells": [
  {
   "cell_type": "markdown",
   "id": "lightweight-behalf",
   "metadata": {},
   "source": [
    "### Importowanie pakietów z znanym nam zbiorem iris"
   ]
  },
  {
   "cell_type": "code",
   "execution_count": null,
   "id": "muslim-commercial",
   "metadata": {},
   "outputs": [],
   "source": [
    "import numpy as np\n",
    "import pandas as pd\n",
    "from sklearn.datasets import load_iris"
   ]
  },
  {
   "cell_type": "code",
   "execution_count": null,
   "id": "organizational-startup",
   "metadata": {},
   "outputs": [],
   "source": [
    "iris = load_iris()\n",
    "df = pd.DataFrame(data= np.c_[iris['data'], iris['target']],\n",
    "                     columns= iris['feature_names'] + ['target'])"
   ]
  },
  {
   "cell_type": "code",
   "execution_count": null,
   "id": "accepted-gregory",
   "metadata": {},
   "outputs": [],
   "source": [
    "type(iris)"
   ]
  },
  {
   "cell_type": "code",
   "execution_count": null,
   "id": "worthy-fortune",
   "metadata": {
    "scrolled": true
   },
   "outputs": [],
   "source": [
    "iris"
   ]
  },
  {
   "cell_type": "code",
   "execution_count": null,
   "id": "digital-accessory",
   "metadata": {},
   "outputs": [],
   "source": [
    "type(df)"
   ]
  },
  {
   "cell_type": "code",
   "execution_count": null,
   "id": "jewish-fairy",
   "metadata": {
    "scrolled": true
   },
   "outputs": [],
   "source": [
    "df.head()"
   ]
  },
  {
   "cell_type": "code",
   "execution_count": null,
   "id": "collected-protection",
   "metadata": {},
   "outputs": [],
   "source": [
    "!pip install sqlalchemy"
   ]
  },
  {
   "cell_type": "markdown",
   "id": "dominican-bruce",
   "metadata": {},
   "source": [
    "### Tworzenie i łączenie się z bazą danych SQL"
   ]
  },
  {
   "cell_type": "markdown",
   "id": "least-capitol",
   "metadata": {},
   "source": [
    "Polecenie create_engine pozwala nam się podłączyć do już istniejącej bazy danych.\n",
    "SQLite to baza danych \"plikowa\". Stworzy nam się plik .db, który będzie zawierałnasze bazy danych"
   ]
  },
  {
   "cell_type": "code",
   "execution_count": null,
   "id": "foreign-february",
   "metadata": {},
   "outputs": [],
   "source": [
    "from sqlalchemy import create_engine\n",
    "engine = create_engine('sqlite:///irysy4.db')\n",
    "baza_danych = create_engine('sqlite:///irysy5.db')"
   ]
  },
  {
   "cell_type": "markdown",
   "id": "hundred-general",
   "metadata": {},
   "source": [
    "Za pomocą polecenia to_sql możemy zapisać nasze obiekty jako tabele sql-owe i zapisać w bazie danych"
   ]
  },
  {
   "cell_type": "code",
   "execution_count": null,
   "id": "robust-madison",
   "metadata": {},
   "outputs": [],
   "source": [
    "df.to_sql('dane', con=engine, index=False)"
   ]
  },
  {
   "cell_type": "code",
   "execution_count": null,
   "id": "fitted-kitchen",
   "metadata": {
    "scrolled": true
   },
   "outputs": [],
   "source": [
    "a=engine.execute(\"SELECT * FROM dane\").fetchall()"
   ]
  },
  {
   "cell_type": "code",
   "execution_count": null,
   "id": "domestic-heating",
   "metadata": {},
   "outputs": [],
   "source": [
    "engine.execute(\"SELECT AVG([sepal width (cm)]) FROM dane\").fetchall()"
   ]
  },
  {
   "cell_type": "code",
   "execution_count": null,
   "id": "derived-acoustic",
   "metadata": {},
   "outputs": [],
   "source": [
    "type(a)"
   ]
  },
  {
   "cell_type": "code",
   "execution_count": null,
   "id": "former-officer",
   "metadata": {},
   "outputs": [],
   "source": [
    "a"
   ]
  },
  {
   "cell_type": "code",
   "execution_count": null,
   "id": "pursuant-tuition",
   "metadata": {},
   "outputs": [],
   "source": [
    "a[0]"
   ]
  },
  {
   "cell_type": "code",
   "execution_count": null,
   "id": "seven-cornell",
   "metadata": {},
   "outputs": [],
   "source": [
    "type(a[0])"
   ]
  },
  {
   "cell_type": "markdown",
   "id": "hybrid-cisco",
   "metadata": {},
   "source": [
    "Te dane możemy skonwertować do data frame"
   ]
  },
  {
   "cell_type": "code",
   "execution_count": null,
   "id": "taken-plane",
   "metadata": {},
   "outputs": [],
   "source": [
    "pd.DataFrame(a)"
   ]
  },
  {
   "cell_type": "code",
   "execution_count": null,
   "id": "welcome-poultry",
   "metadata": {},
   "outputs": [],
   "source": [
    "df2 = pd.DataFrame({'name' : ['User 1', 'User 2', 'User 3']})\n",
    "df2"
   ]
  },
  {
   "cell_type": "code",
   "execution_count": null,
   "id": "broadband-prize",
   "metadata": {},
   "outputs": [],
   "source": [
    "df2.to_sql('users', con=engine, if_exists=\"replace\",index=True)\n",
    "#engine.execute(\"SELECT * FROM users\").fetchall()"
   ]
  },
  {
   "cell_type": "code",
   "execution_count": null,
   "id": "suspected-connecticut",
   "metadata": {},
   "outputs": [],
   "source": [
    "df3 = pd.DataFrame({'name' : ['User 6', 'User 7']})\n",
    "df3.to_sql('users', con=engine, if_exists='append')"
   ]
  },
  {
   "cell_type": "code",
   "execution_count": null,
   "id": "explicit-ambassador",
   "metadata": {
    "scrolled": true
   },
   "outputs": [],
   "source": [
    "engine.execute(\"SELECT * FROM users\").fetchall()"
   ]
  },
  {
   "cell_type": "code",
   "execution_count": null,
   "id": "chicken-artwork",
   "metadata": {},
   "outputs": [],
   "source": [
    "from sqlalchemy import create_engine\n",
    "from sqlalchemy import Column, String, Integer\n",
    "from sqlalchemy.ext.declarative import declarative_base\n",
    "from sqlalchemy.orm import sessionmaker"
   ]
  },
  {
   "cell_type": "code",
   "execution_count": null,
   "id": "forbidden-imagination",
   "metadata": {},
   "outputs": [],
   "source": [
    "engine = create_engine('sqlite:///irysy2.db')\n",
    "base = declarative_base()"
   ]
  },
  {
   "cell_type": "code",
   "execution_count": null,
   "id": "accompanied-capacity",
   "metadata": {},
   "outputs": [],
   "source": [
    "type(base)"
   ]
  },
  {
   "cell_type": "code",
   "execution_count": null,
   "id": "detailed-publisher",
   "metadata": {
    "scrolled": true
   },
   "outputs": [],
   "source": [
    "class Transakcje(base):\n",
    "    \n",
    "    __tablename__ = 'transakcje'\n",
    "    \n",
    "    transakcja_id = Column(Integer, primary_key=True)\n",
    "    data = Column(String)\n",
    "    przedmiot_id = Column(Integer)\n",
    "    cena = Column(Integer)\n",
    "    \n",
    "    def __init__(self, transakcja_id, data, przedmiot_id, cena):\n",
    "        self.transakcja_id = transakcja_id\n",
    "        self.data = data\n",
    "        self.przedmiot_id = przedmiot_id\n",
    "        self.cena = cena"
   ]
  },
  {
   "cell_type": "code",
   "execution_count": null,
   "id": "optional-steal",
   "metadata": {},
   "outputs": [],
   "source": [
    "class Kwiaty(base):\n",
    "    \n",
    "    __tablename__ = 'irysy'\n",
    "    \n",
    "    kwiat_id   = Column(Integer, primary_key=True)\n",
    "    dzial_dlug = Column(Integer)\n",
    "    dzial_szer = Column(Integer)\n",
    "    plat_dlug  = Column(Integer)\n",
    "    plat_szer  = Column(Integer)\n",
    "    \n",
    "    def __init__(self, kwiat_id, dzial_dlug, dzial_szer, plat_dlug, plat_szer):\n",
    "        self.kwiat_id = kwiat_id\n",
    "        self.dzial_dlug = dzial_dlug\n",
    "        self.dzial_szer = dzial_szer\n",
    "        self.plat_dlug = plat_dlug\n",
    "        self.plat_szer = plat_szer"
   ]
  },
  {
   "cell_type": "code",
   "execution_count": null,
   "id": "indie-orlando",
   "metadata": {},
   "outputs": [],
   "source": [
    "# tworzenie tabel\n",
    "base.metadata.create_all(engine)"
   ]
  },
  {
   "cell_type": "code",
   "execution_count": null,
   "id": "faced-capital",
   "metadata": {},
   "outputs": [],
   "source": [
    "from sqlalchemy.orm import sessionmaker\n",
    "# Stworzenie nowej sesji\n",
    "Session = sessionmaker(bind=engine)\n",
    "session = Session()\n",
    "# dodanie danych\n",
    "for t in range(10):\n",
    "    tr = Transakcje(t, f'200{t}/05/06', t**2-t*2, 19)\n",
    "    session.add(tr)\n",
    "# zapis zmian w bazie danych\n",
    "session.commit()"
   ]
  },
  {
   "cell_type": "code",
   "execution_count": null,
   "id": "communist-mechanism",
   "metadata": {},
   "outputs": [],
   "source": [
    "Session = sessionmaker(bind=engine)\n",
    "session = Session()\n",
    "# dodanie danych\n",
    "for t in range(df.shape[0]):\n",
    "    tr = Kwiaty(t, df.iloc[t,0], df.iloc[t,1], df.iloc[t,2],df.iloc[t,3])\n",
    "    session.add(tr)\n",
    "# zapis zmian w bazie danych\n",
    "session.commit()"
   ]
  },
  {
   "cell_type": "code",
   "execution_count": null,
   "id": "signed-equality",
   "metadata": {
    "scrolled": true
   },
   "outputs": [],
   "source": [
    "engine.execute(\"SELECT * FROM irysy\").fetchall()"
   ]
  },
  {
   "cell_type": "code",
   "execution_count": null,
   "id": "micro-quest",
   "metadata": {},
   "outputs": [],
   "source": [
    "engine.execute(\"SELECT * FROM Transakcje\").fetchall()"
   ]
  },
  {
   "cell_type": "code",
   "execution_count": null,
   "id": "operational-compact",
   "metadata": {},
   "outputs": [],
   "source": [
    "engine.execute(\"SELECT * FROM transakcje\").fetchall()"
   ]
  },
  {
   "cell_type": "code",
   "execution_count": null,
   "id": "broadband-emerald",
   "metadata": {},
   "outputs": [],
   "source": [
    "# wszystkie dane\n",
    "for s in session.query(Transakcje).all():\n",
    "    print(s.transakcja_id, s.data)"
   ]
  },
  {
   "cell_type": "code",
   "execution_count": null,
   "id": "improving-criterion",
   "metadata": {},
   "outputs": [],
   "source": [
    "# wybrane transakcje\n",
    "for s in session.query(Transakcje).filter(Transakcje.transakcja_id>5):\n",
    "    print(s.transakcja_id, s.data)"
   ]
  },
  {
   "cell_type": "code",
   "execution_count": null,
   "id": "extra-cable",
   "metadata": {
    "scrolled": true
   },
   "outputs": [],
   "source": [
    "# wybrane Kwiaty\n",
    "for s in session.query(Kwiaty).filter(Kwiaty.dzial_dlug>5):\n",
    "    print(s.kwiat_id, s.dzial_dlug)"
   ]
  },
  {
   "cell_type": "code",
   "execution_count": null,
   "id": "sunset-vanilla",
   "metadata": {},
   "outputs": [],
   "source": [
    "import json"
   ]
  },
  {
   "cell_type": "markdown",
   "id": "hairy-representation",
   "metadata": {},
   "source": [
    "JSON - Java Script Object Notation (ale w żaden sposób nie jest połączony z Java Scriptem czy żadnym innym językiem).  \n",
    "JSON to sposób na lekki format wymiany danych.  \n",
    "W JSON są czyste dane, nie ma tam jakichś zmiennych czy fukncji. Popularyazcja jego nastąpiła od mniej więcej 2001. Teraz jest używanie prawie, że domyślnie do wymiany danych między aplikacjami."
   ]
  },
  {
   "cell_type": "code",
   "execution_count": null,
   "id": "apart-governor",
   "metadata": {},
   "outputs": [],
   "source": [
    "from IPython.display import HTML\n",
    "from IPython.display import Image"
   ]
  },
  {
   "cell_type": "code",
   "execution_count": null,
   "id": "cutting-plymouth",
   "metadata": {},
   "outputs": [],
   "source": [
    "HTML('<iframe width=\"560\" height=\"315\" src=\"https://www.youtube.com/embed/haYYypSnOTY\" title=\"YouTube video player\" frameborder=\"0\" allow=\"accelerometer; autoplay; clipboard-write; encrypted-media; gyroscope; picture-in-picture\" allowfullscreen></iframe>')"
   ]
  },
  {
   "cell_type": "code",
   "execution_count": null,
   "id": "immune-royalty",
   "metadata": {},
   "outputs": [],
   "source": [
    "person = '{\"name\": \"Bob\", \"languages\": [\"English\", \"French\"]}'\n",
    "type(person)"
   ]
  },
  {
   "cell_type": "code",
   "execution_count": null,
   "id": "smart-knight",
   "metadata": {},
   "outputs": [],
   "source": [
    "person"
   ]
  },
  {
   "cell_type": "code",
   "execution_count": null,
   "id": "answering-modeling",
   "metadata": {},
   "outputs": [],
   "source": [
    "person_dict = json.loads(person)\n",
    "\n",
    "# Output: {'name': 'Bob', 'languages': ['English', 'Fench']}\n",
    "print(person_dict)\n",
    "\n",
    "# Output: ['English', 'French']\n",
    "print(person_dict['languages'])"
   ]
  },
  {
   "cell_type": "code",
   "execution_count": null,
   "id": "scenic-clone",
   "metadata": {},
   "outputs": [],
   "source": [
    "person_dict"
   ]
  },
  {
   "cell_type": "code",
   "execution_count": null,
   "id": "verified-allah",
   "metadata": {},
   "outputs": [],
   "source": [
    "type(person_dict)"
   ]
  },
  {
   "cell_type": "code",
   "execution_count": null,
   "id": "emotional-trader",
   "metadata": {},
   "outputs": [],
   "source": [
    "%%file test5.json\n",
    "\n",
    "\n",
    "{\"name\": \"Bob\", \n",
    "\"languages\": [\"English\", \"French\"]\n",
    "}"
   ]
  },
  {
   "cell_type": "code",
   "execution_count": null,
   "id": "swiss-proposition",
   "metadata": {},
   "outputs": [],
   "source": [
    "with open('test5.json') as f:\n",
    "    data = json.load(f)\n",
    "\n",
    "# Output: {'name': 'Bob', 'languages': ['English', 'Fench']}\n",
    "print(data)"
   ]
  },
  {
   "cell_type": "code",
   "execution_count": null,
   "id": "activated-replica",
   "metadata": {},
   "outputs": [],
   "source": [
    "type(data)"
   ]
  },
  {
   "cell_type": "code",
   "execution_count": null,
   "id": "plastic-irrigation",
   "metadata": {},
   "outputs": [],
   "source": [
    "data['name']"
   ]
  },
  {
   "cell_type": "code",
   "execution_count": null,
   "id": "crude-philippines",
   "metadata": {},
   "outputs": [],
   "source": [
    "data['languages']"
   ]
  },
  {
   "cell_type": "code",
   "execution_count": null,
   "id": "existing-kennedy",
   "metadata": {},
   "outputs": [],
   "source": [
    "person_dict = {'name': 'Bob',\n",
    "'age': 12,\n",
    "'children': None\n",
    "}\n",
    "\n",
    "person_json = json.dumps(person_dict)\n",
    "print(person_json)"
   ]
  },
  {
   "cell_type": "code",
   "execution_count": null,
   "id": "designed-savannah",
   "metadata": {},
   "outputs": [],
   "source": [
    "with open('person2.json', 'w') as json_file:\n",
    "    json.dump(person_dict, json_file)"
   ]
  },
  {
   "cell_type": "code",
   "execution_count": null,
   "id": "collectible-guarantee",
   "metadata": {},
   "outputs": [],
   "source": [
    "print(json.dumps(person_dict, indent = 4, sort_keys=True))"
   ]
  },
  {
   "cell_type": "code",
   "execution_count": null,
   "id": "included-nashville",
   "metadata": {},
   "outputs": [],
   "source": [
    "!pip install flask\n",
    "!pip install flask_restful\n",
    "!pip install flask_jsonpify"
   ]
  },
  {
   "cell_type": "code",
   "execution_count": null,
   "id": "grateful-spyware",
   "metadata": {},
   "outputs": [],
   "source": [
    "from flask import Flask, request\n",
    "from flask_restful import Resource, Api\n",
    "from flask_jsonpify import jsonify"
   ]
  },
  {
   "cell_type": "code",
   "execution_count": null,
   "id": "cellular-means",
   "metadata": {},
   "outputs": [],
   "source": [
    "app  = Flask(__name__)\n",
    "api = Api(app)\n",
    "\n",
    "@app.route('/')\n",
    "@app.route('/index')\n",
    "def home():\n",
    "    #return render_template('home.html')\n",
    "    return \"Strona poczatkowa\"\n",
    "\n",
    "@app.route('/hello/<name>')\n",
    "def success(name):\n",
    "    return f'<h1>{name}</h1>'"
   ]
  },
  {
   "cell_type": "code",
   "execution_count": null,
   "id": "breeding-partner",
   "metadata": {},
   "outputs": [],
   "source": [
    "class Main(Resource):\n",
    "    def get(self):\n",
    "        return jsonify(\"Hello world\")"
   ]
  },
  {
   "cell_type": "code",
   "execution_count": null,
   "id": "turned-handling",
   "metadata": {},
   "outputs": [],
   "source": [
    "api.add_resource(Main,'/test')"
   ]
  },
  {
   "cell_type": "code",
   "execution_count": null,
   "id": "broad-arcade",
   "metadata": {},
   "outputs": [],
   "source": [
    "class Irys(Resource):\n",
    "    \n",
    "    def get(self):\n",
    "        conn=engine.connect()\n",
    "        query = conn.execute('select * from irysy')\n",
    "        result = {'dane':[i for i in query.cursor.fetchall()]}\n",
    "        return jsonify(result)"
   ]
  },
  {
   "cell_type": "code",
   "execution_count": null,
   "id": "professional-referral",
   "metadata": {},
   "outputs": [],
   "source": [
    "api.add_resource(Irys, '/irys')"
   ]
  },
  {
   "cell_type": "code",
   "execution_count": null,
   "id": "baking-semester",
   "metadata": {},
   "outputs": [],
   "source": [
    "app.run(port='5002')"
   ]
  }
 ],
 "metadata": {
  "kernelspec": {
   "display_name": "Python 3",
   "language": "python",
   "name": "python3"
  },
  "language_info": {
   "codemirror_mode": {
    "name": "ipython",
    "version": 3
   },
   "file_extension": ".py",
   "mimetype": "text/x-python",
   "name": "python",
   "nbconvert_exporter": "python",
   "pygments_lexer": "ipython3",
   "version": "3.6.13"
  }
 },
 "nbformat": 4,
 "nbformat_minor": 5
}
