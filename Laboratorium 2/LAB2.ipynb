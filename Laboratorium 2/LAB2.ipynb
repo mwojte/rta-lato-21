{
 "cells": [
  {
   "cell_type": "markdown",
   "id": "lightweight-behalf",
   "metadata": {},
   "source": [
    "### Importowanie pakietów z znanym nam zbiorem iris"
   ]
  },
  {
   "cell_type": "code",
   "execution_count": 1,
   "id": "muslim-commercial",
   "metadata": {},
   "outputs": [],
   "source": [
    "import numpy as np\n",
    "import pandas as pd\n",
    "from sklearn.datasets import load_iris"
   ]
  },
  {
   "cell_type": "code",
   "execution_count": 2,
   "id": "organizational-startup",
   "metadata": {},
   "outputs": [],
   "source": [
    "iris = load_iris()\n",
    "df = pd.DataFrame(data= np.c_[iris['data'], iris['target']],\n",
    "                     columns= iris['feature_names'] + ['target'])"
   ]
  },
  {
   "cell_type": "code",
   "execution_count": 3,
   "id": "accepted-gregory",
   "metadata": {},
   "outputs": [
    {
     "data": {
      "text/plain": [
       "sklearn.utils.Bunch"
      ]
     },
     "execution_count": 3,
     "metadata": {},
     "output_type": "execute_result"
    }
   ],
   "source": [
    "type(iris)"
   ]
  },
  {
   "cell_type": "code",
   "execution_count": 4,
   "id": "worthy-fortune",
   "metadata": {
    "scrolled": true
   },
   "outputs": [
    {
     "data": {
      "text/plain": [
       "{'data': array([[5.1, 3.5, 1.4, 0.2],\n",
       "        [4.9, 3. , 1.4, 0.2],\n",
       "        [4.7, 3.2, 1.3, 0.2],\n",
       "        [4.6, 3.1, 1.5, 0.2],\n",
       "        [5. , 3.6, 1.4, 0.2],\n",
       "        [5.4, 3.9, 1.7, 0.4],\n",
       "        [4.6, 3.4, 1.4, 0.3],\n",
       "        [5. , 3.4, 1.5, 0.2],\n",
       "        [4.4, 2.9, 1.4, 0.2],\n",
       "        [4.9, 3.1, 1.5, 0.1],\n",
       "        [5.4, 3.7, 1.5, 0.2],\n",
       "        [4.8, 3.4, 1.6, 0.2],\n",
       "        [4.8, 3. , 1.4, 0.1],\n",
       "        [4.3, 3. , 1.1, 0.1],\n",
       "        [5.8, 4. , 1.2, 0.2],\n",
       "        [5.7, 4.4, 1.5, 0.4],\n",
       "        [5.4, 3.9, 1.3, 0.4],\n",
       "        [5.1, 3.5, 1.4, 0.3],\n",
       "        [5.7, 3.8, 1.7, 0.3],\n",
       "        [5.1, 3.8, 1.5, 0.3],\n",
       "        [5.4, 3.4, 1.7, 0.2],\n",
       "        [5.1, 3.7, 1.5, 0.4],\n",
       "        [4.6, 3.6, 1. , 0.2],\n",
       "        [5.1, 3.3, 1.7, 0.5],\n",
       "        [4.8, 3.4, 1.9, 0.2],\n",
       "        [5. , 3. , 1.6, 0.2],\n",
       "        [5. , 3.4, 1.6, 0.4],\n",
       "        [5.2, 3.5, 1.5, 0.2],\n",
       "        [5.2, 3.4, 1.4, 0.2],\n",
       "        [4.7, 3.2, 1.6, 0.2],\n",
       "        [4.8, 3.1, 1.6, 0.2],\n",
       "        [5.4, 3.4, 1.5, 0.4],\n",
       "        [5.2, 4.1, 1.5, 0.1],\n",
       "        [5.5, 4.2, 1.4, 0.2],\n",
       "        [4.9, 3.1, 1.5, 0.2],\n",
       "        [5. , 3.2, 1.2, 0.2],\n",
       "        [5.5, 3.5, 1.3, 0.2],\n",
       "        [4.9, 3.6, 1.4, 0.1],\n",
       "        [4.4, 3. , 1.3, 0.2],\n",
       "        [5.1, 3.4, 1.5, 0.2],\n",
       "        [5. , 3.5, 1.3, 0.3],\n",
       "        [4.5, 2.3, 1.3, 0.3],\n",
       "        [4.4, 3.2, 1.3, 0.2],\n",
       "        [5. , 3.5, 1.6, 0.6],\n",
       "        [5.1, 3.8, 1.9, 0.4],\n",
       "        [4.8, 3. , 1.4, 0.3],\n",
       "        [5.1, 3.8, 1.6, 0.2],\n",
       "        [4.6, 3.2, 1.4, 0.2],\n",
       "        [5.3, 3.7, 1.5, 0.2],\n",
       "        [5. , 3.3, 1.4, 0.2],\n",
       "        [7. , 3.2, 4.7, 1.4],\n",
       "        [6.4, 3.2, 4.5, 1.5],\n",
       "        [6.9, 3.1, 4.9, 1.5],\n",
       "        [5.5, 2.3, 4. , 1.3],\n",
       "        [6.5, 2.8, 4.6, 1.5],\n",
       "        [5.7, 2.8, 4.5, 1.3],\n",
       "        [6.3, 3.3, 4.7, 1.6],\n",
       "        [4.9, 2.4, 3.3, 1. ],\n",
       "        [6.6, 2.9, 4.6, 1.3],\n",
       "        [5.2, 2.7, 3.9, 1.4],\n",
       "        [5. , 2. , 3.5, 1. ],\n",
       "        [5.9, 3. , 4.2, 1.5],\n",
       "        [6. , 2.2, 4. , 1. ],\n",
       "        [6.1, 2.9, 4.7, 1.4],\n",
       "        [5.6, 2.9, 3.6, 1.3],\n",
       "        [6.7, 3.1, 4.4, 1.4],\n",
       "        [5.6, 3. , 4.5, 1.5],\n",
       "        [5.8, 2.7, 4.1, 1. ],\n",
       "        [6.2, 2.2, 4.5, 1.5],\n",
       "        [5.6, 2.5, 3.9, 1.1],\n",
       "        [5.9, 3.2, 4.8, 1.8],\n",
       "        [6.1, 2.8, 4. , 1.3],\n",
       "        [6.3, 2.5, 4.9, 1.5],\n",
       "        [6.1, 2.8, 4.7, 1.2],\n",
       "        [6.4, 2.9, 4.3, 1.3],\n",
       "        [6.6, 3. , 4.4, 1.4],\n",
       "        [6.8, 2.8, 4.8, 1.4],\n",
       "        [6.7, 3. , 5. , 1.7],\n",
       "        [6. , 2.9, 4.5, 1.5],\n",
       "        [5.7, 2.6, 3.5, 1. ],\n",
       "        [5.5, 2.4, 3.8, 1.1],\n",
       "        [5.5, 2.4, 3.7, 1. ],\n",
       "        [5.8, 2.7, 3.9, 1.2],\n",
       "        [6. , 2.7, 5.1, 1.6],\n",
       "        [5.4, 3. , 4.5, 1.5],\n",
       "        [6. , 3.4, 4.5, 1.6],\n",
       "        [6.7, 3.1, 4.7, 1.5],\n",
       "        [6.3, 2.3, 4.4, 1.3],\n",
       "        [5.6, 3. , 4.1, 1.3],\n",
       "        [5.5, 2.5, 4. , 1.3],\n",
       "        [5.5, 2.6, 4.4, 1.2],\n",
       "        [6.1, 3. , 4.6, 1.4],\n",
       "        [5.8, 2.6, 4. , 1.2],\n",
       "        [5. , 2.3, 3.3, 1. ],\n",
       "        [5.6, 2.7, 4.2, 1.3],\n",
       "        [5.7, 3. , 4.2, 1.2],\n",
       "        [5.7, 2.9, 4.2, 1.3],\n",
       "        [6.2, 2.9, 4.3, 1.3],\n",
       "        [5.1, 2.5, 3. , 1.1],\n",
       "        [5.7, 2.8, 4.1, 1.3],\n",
       "        [6.3, 3.3, 6. , 2.5],\n",
       "        [5.8, 2.7, 5.1, 1.9],\n",
       "        [7.1, 3. , 5.9, 2.1],\n",
       "        [6.3, 2.9, 5.6, 1.8],\n",
       "        [6.5, 3. , 5.8, 2.2],\n",
       "        [7.6, 3. , 6.6, 2.1],\n",
       "        [4.9, 2.5, 4.5, 1.7],\n",
       "        [7.3, 2.9, 6.3, 1.8],\n",
       "        [6.7, 2.5, 5.8, 1.8],\n",
       "        [7.2, 3.6, 6.1, 2.5],\n",
       "        [6.5, 3.2, 5.1, 2. ],\n",
       "        [6.4, 2.7, 5.3, 1.9],\n",
       "        [6.8, 3. , 5.5, 2.1],\n",
       "        [5.7, 2.5, 5. , 2. ],\n",
       "        [5.8, 2.8, 5.1, 2.4],\n",
       "        [6.4, 3.2, 5.3, 2.3],\n",
       "        [6.5, 3. , 5.5, 1.8],\n",
       "        [7.7, 3.8, 6.7, 2.2],\n",
       "        [7.7, 2.6, 6.9, 2.3],\n",
       "        [6. , 2.2, 5. , 1.5],\n",
       "        [6.9, 3.2, 5.7, 2.3],\n",
       "        [5.6, 2.8, 4.9, 2. ],\n",
       "        [7.7, 2.8, 6.7, 2. ],\n",
       "        [6.3, 2.7, 4.9, 1.8],\n",
       "        [6.7, 3.3, 5.7, 2.1],\n",
       "        [7.2, 3.2, 6. , 1.8],\n",
       "        [6.2, 2.8, 4.8, 1.8],\n",
       "        [6.1, 3. , 4.9, 1.8],\n",
       "        [6.4, 2.8, 5.6, 2.1],\n",
       "        [7.2, 3. , 5.8, 1.6],\n",
       "        [7.4, 2.8, 6.1, 1.9],\n",
       "        [7.9, 3.8, 6.4, 2. ],\n",
       "        [6.4, 2.8, 5.6, 2.2],\n",
       "        [6.3, 2.8, 5.1, 1.5],\n",
       "        [6.1, 2.6, 5.6, 1.4],\n",
       "        [7.7, 3. , 6.1, 2.3],\n",
       "        [6.3, 3.4, 5.6, 2.4],\n",
       "        [6.4, 3.1, 5.5, 1.8],\n",
       "        [6. , 3. , 4.8, 1.8],\n",
       "        [6.9, 3.1, 5.4, 2.1],\n",
       "        [6.7, 3.1, 5.6, 2.4],\n",
       "        [6.9, 3.1, 5.1, 2.3],\n",
       "        [5.8, 2.7, 5.1, 1.9],\n",
       "        [6.8, 3.2, 5.9, 2.3],\n",
       "        [6.7, 3.3, 5.7, 2.5],\n",
       "        [6.7, 3. , 5.2, 2.3],\n",
       "        [6.3, 2.5, 5. , 1.9],\n",
       "        [6.5, 3. , 5.2, 2. ],\n",
       "        [6.2, 3.4, 5.4, 2.3],\n",
       "        [5.9, 3. , 5.1, 1.8]]),\n",
       " 'target': array([0, 0, 0, 0, 0, 0, 0, 0, 0, 0, 0, 0, 0, 0, 0, 0, 0, 0, 0, 0, 0, 0,\n",
       "        0, 0, 0, 0, 0, 0, 0, 0, 0, 0, 0, 0, 0, 0, 0, 0, 0, 0, 0, 0, 0, 0,\n",
       "        0, 0, 0, 0, 0, 0, 1, 1, 1, 1, 1, 1, 1, 1, 1, 1, 1, 1, 1, 1, 1, 1,\n",
       "        1, 1, 1, 1, 1, 1, 1, 1, 1, 1, 1, 1, 1, 1, 1, 1, 1, 1, 1, 1, 1, 1,\n",
       "        1, 1, 1, 1, 1, 1, 1, 1, 1, 1, 1, 1, 2, 2, 2, 2, 2, 2, 2, 2, 2, 2,\n",
       "        2, 2, 2, 2, 2, 2, 2, 2, 2, 2, 2, 2, 2, 2, 2, 2, 2, 2, 2, 2, 2, 2,\n",
       "        2, 2, 2, 2, 2, 2, 2, 2, 2, 2, 2, 2, 2, 2, 2, 2, 2, 2]),\n",
       " 'frame': None,\n",
       " 'target_names': array(['setosa', 'versicolor', 'virginica'], dtype='<U10'),\n",
       " 'DESCR': '.. _iris_dataset:\\n\\nIris plants dataset\\n--------------------\\n\\n**Data Set Characteristics:**\\n\\n    :Number of Instances: 150 (50 in each of three classes)\\n    :Number of Attributes: 4 numeric, predictive attributes and the class\\n    :Attribute Information:\\n        - sepal length in cm\\n        - sepal width in cm\\n        - petal length in cm\\n        - petal width in cm\\n        - class:\\n                - Iris-Setosa\\n                - Iris-Versicolour\\n                - Iris-Virginica\\n                \\n    :Summary Statistics:\\n\\n    ============== ==== ==== ======= ===== ====================\\n                    Min  Max   Mean    SD   Class Correlation\\n    ============== ==== ==== ======= ===== ====================\\n    sepal length:   4.3  7.9   5.84   0.83    0.7826\\n    sepal width:    2.0  4.4   3.05   0.43   -0.4194\\n    petal length:   1.0  6.9   3.76   1.76    0.9490  (high!)\\n    petal width:    0.1  2.5   1.20   0.76    0.9565  (high!)\\n    ============== ==== ==== ======= ===== ====================\\n\\n    :Missing Attribute Values: None\\n    :Class Distribution: 33.3% for each of 3 classes.\\n    :Creator: R.A. Fisher\\n    :Donor: Michael Marshall (MARSHALL%PLU@io.arc.nasa.gov)\\n    :Date: July, 1988\\n\\nThe famous Iris database, first used by Sir R.A. Fisher. The dataset is taken\\nfrom Fisher\\'s paper. Note that it\\'s the same as in R, but not as in the UCI\\nMachine Learning Repository, which has two wrong data points.\\n\\nThis is perhaps the best known database to be found in the\\npattern recognition literature.  Fisher\\'s paper is a classic in the field and\\nis referenced frequently to this day.  (See Duda & Hart, for example.)  The\\ndata set contains 3 classes of 50 instances each, where each class refers to a\\ntype of iris plant.  One class is linearly separable from the other 2; the\\nlatter are NOT linearly separable from each other.\\n\\n.. topic:: References\\n\\n   - Fisher, R.A. \"The use of multiple measurements in taxonomic problems\"\\n     Annual Eugenics, 7, Part II, 179-188 (1936); also in \"Contributions to\\n     Mathematical Statistics\" (John Wiley, NY, 1950).\\n   - Duda, R.O., & Hart, P.E. (1973) Pattern Classification and Scene Analysis.\\n     (Q327.D83) John Wiley & Sons.  ISBN 0-471-22361-1.  See page 218.\\n   - Dasarathy, B.V. (1980) \"Nosing Around the Neighborhood: A New System\\n     Structure and Classification Rule for Recognition in Partially Exposed\\n     Environments\".  IEEE Transactions on Pattern Analysis and Machine\\n     Intelligence, Vol. PAMI-2, No. 1, 67-71.\\n   - Gates, G.W. (1972) \"The Reduced Nearest Neighbor Rule\".  IEEE Transactions\\n     on Information Theory, May 1972, 431-433.\\n   - See also: 1988 MLC Proceedings, 54-64.  Cheeseman et al\"s AUTOCLASS II\\n     conceptual clustering system finds 3 classes in the data.\\n   - Many, many more ...',\n",
       " 'feature_names': ['sepal length (cm)',\n",
       "  'sepal width (cm)',\n",
       "  'petal length (cm)',\n",
       "  'petal width (cm)'],\n",
       " 'filename': '/usr/local/lib/python3.6/site-packages/sklearn/datasets/data/iris.csv'}"
      ]
     },
     "execution_count": 4,
     "metadata": {},
     "output_type": "execute_result"
    }
   ],
   "source": [
    "iris"
   ]
  },
  {
   "cell_type": "code",
   "execution_count": 5,
   "id": "digital-accessory",
   "metadata": {},
   "outputs": [
    {
     "data": {
      "text/plain": [
       "pandas.core.frame.DataFrame"
      ]
     },
     "execution_count": 5,
     "metadata": {},
     "output_type": "execute_result"
    }
   ],
   "source": [
    "type(df)"
   ]
  },
  {
   "cell_type": "code",
   "execution_count": 6,
   "id": "jewish-fairy",
   "metadata": {
    "scrolled": true
   },
   "outputs": [
    {
     "data": {
      "text/html": [
       "<div>\n",
       "<style scoped>\n",
       "    .dataframe tbody tr th:only-of-type {\n",
       "        vertical-align: middle;\n",
       "    }\n",
       "\n",
       "    .dataframe tbody tr th {\n",
       "        vertical-align: top;\n",
       "    }\n",
       "\n",
       "    .dataframe thead th {\n",
       "        text-align: right;\n",
       "    }\n",
       "</style>\n",
       "<table border=\"1\" class=\"dataframe\">\n",
       "  <thead>\n",
       "    <tr style=\"text-align: right;\">\n",
       "      <th></th>\n",
       "      <th>sepal length (cm)</th>\n",
       "      <th>sepal width (cm)</th>\n",
       "      <th>petal length (cm)</th>\n",
       "      <th>petal width (cm)</th>\n",
       "      <th>target</th>\n",
       "    </tr>\n",
       "  </thead>\n",
       "  <tbody>\n",
       "    <tr>\n",
       "      <th>0</th>\n",
       "      <td>5.1</td>\n",
       "      <td>3.5</td>\n",
       "      <td>1.4</td>\n",
       "      <td>0.2</td>\n",
       "      <td>0.0</td>\n",
       "    </tr>\n",
       "    <tr>\n",
       "      <th>1</th>\n",
       "      <td>4.9</td>\n",
       "      <td>3.0</td>\n",
       "      <td>1.4</td>\n",
       "      <td>0.2</td>\n",
       "      <td>0.0</td>\n",
       "    </tr>\n",
       "    <tr>\n",
       "      <th>2</th>\n",
       "      <td>4.7</td>\n",
       "      <td>3.2</td>\n",
       "      <td>1.3</td>\n",
       "      <td>0.2</td>\n",
       "      <td>0.0</td>\n",
       "    </tr>\n",
       "    <tr>\n",
       "      <th>3</th>\n",
       "      <td>4.6</td>\n",
       "      <td>3.1</td>\n",
       "      <td>1.5</td>\n",
       "      <td>0.2</td>\n",
       "      <td>0.0</td>\n",
       "    </tr>\n",
       "    <tr>\n",
       "      <th>4</th>\n",
       "      <td>5.0</td>\n",
       "      <td>3.6</td>\n",
       "      <td>1.4</td>\n",
       "      <td>0.2</td>\n",
       "      <td>0.0</td>\n",
       "    </tr>\n",
       "  </tbody>\n",
       "</table>\n",
       "</div>"
      ],
      "text/plain": [
       "   sepal length (cm)  sepal width (cm)  petal length (cm)  petal width (cm)  \\\n",
       "0                5.1               3.5                1.4               0.2   \n",
       "1                4.9               3.0                1.4               0.2   \n",
       "2                4.7               3.2                1.3               0.2   \n",
       "3                4.6               3.1                1.5               0.2   \n",
       "4                5.0               3.6                1.4               0.2   \n",
       "\n",
       "   target  \n",
       "0     0.0  \n",
       "1     0.0  \n",
       "2     0.0  \n",
       "3     0.0  \n",
       "4     0.0  "
      ]
     },
     "execution_count": 6,
     "metadata": {},
     "output_type": "execute_result"
    }
   ],
   "source": [
    "df.head()"
   ]
  },
  {
   "cell_type": "code",
   "execution_count": 7,
   "id": "collected-protection",
   "metadata": {},
   "outputs": [
    {
     "name": "stdout",
     "output_type": "stream",
     "text": [
      "Collecting sqlalchemy\n",
      "  Downloading SQLAlchemy-1.4.9-cp36-cp36m-manylinux2014_x86_64.whl (1.5 MB)\n",
      "\u001b[K     |████████████████████████████████| 1.5 MB 1.6 MB/s eta 0:00:01\n",
      "\u001b[?25hRequirement already satisfied: importlib-metadata in /usr/local/lib/python3.6/site-packages (from sqlalchemy) (3.7.3)\n",
      "Collecting greenlet!=0.4.17\n",
      "  Downloading greenlet-1.0.0-cp36-cp36m-manylinux2010_x86_64.whl (156 kB)\n",
      "\u001b[K     |████████████████████████████████| 156 kB 22.2 MB/s eta 0:00:01\n",
      "\u001b[?25hRequirement already satisfied: typing-extensions>=3.6.4 in /usr/local/lib/python3.6/site-packages (from importlib-metadata->sqlalchemy) (3.7.4.3)\n",
      "Requirement already satisfied: zipp>=0.5 in /usr/local/lib/python3.6/site-packages (from importlib-metadata->sqlalchemy) (3.4.1)\n",
      "Installing collected packages: greenlet, sqlalchemy\n",
      "Successfully installed greenlet-1.0.0 sqlalchemy-1.4.9\n"
     ]
    }
   ],
   "source": [
    "!pip install sqlalchemy"
   ]
  },
  {
   "cell_type": "markdown",
   "id": "dominican-bruce",
   "metadata": {},
   "source": [
    "### Tworzenie i łączenie się z bazą danych SQL"
   ]
  },
  {
   "cell_type": "markdown",
   "id": "least-capitol",
   "metadata": {},
   "source": [
    "Polecenie create_engine pozwala nam się podłączyć do już istniejącej bazy danych.\n",
    "SQLite to baza danych \"plikowa\". Stworzy nam się plik .db, który będzie zawierałnasze bazy danych"
   ]
  },
  {
   "cell_type": "code",
   "execution_count": 8,
   "id": "foreign-february",
   "metadata": {},
   "outputs": [],
   "source": [
    "from sqlalchemy import create_engine\n",
    "engine = create_engine('sqlite:///irysy4.db')\n",
    "baza_danych = create_engine('sqlite:///irysy5.db')"
   ]
  },
  {
   "cell_type": "markdown",
   "id": "hundred-general",
   "metadata": {},
   "source": [
    "Za pomocą polecenia to_sql możemy zapisać nasze obiekty jako tabele sql-owe i zapisać w bazie danych"
   ]
  },
  {
   "cell_type": "code",
   "execution_count": 9,
   "id": "robust-madison",
   "metadata": {},
   "outputs": [],
   "source": [
    "df.to_sql('dane', con=engine, index=False)"
   ]
  },
  {
   "cell_type": "code",
   "execution_count": 13,
   "id": "fitted-kitchen",
   "metadata": {
    "scrolled": true
   },
   "outputs": [],
   "source": [
    "a=engine.execute(\"SELECT * FROM dane\").fetchall()"
   ]
  },
  {
   "cell_type": "code",
   "execution_count": 12,
   "id": "domestic-heating",
   "metadata": {},
   "outputs": [
    {
     "data": {
      "text/plain": [
       "[(3.057333333333334,)]"
      ]
     },
     "execution_count": 12,
     "metadata": {},
     "output_type": "execute_result"
    }
   ],
   "source": [
    "engine.execute(\"SELECT AVG([sepal width (cm)]) FROM dane\").fetchall()"
   ]
  },
  {
   "cell_type": "code",
   "execution_count": 14,
   "id": "derived-acoustic",
   "metadata": {},
   "outputs": [
    {
     "data": {
      "text/plain": [
       "list"
      ]
     },
     "execution_count": 14,
     "metadata": {},
     "output_type": "execute_result"
    }
   ],
   "source": [
    "type(a)"
   ]
  },
  {
   "cell_type": "code",
   "execution_count": 15,
   "id": "former-officer",
   "metadata": {},
   "outputs": [
    {
     "data": {
      "text/plain": [
       "[(5.1, 3.5, 1.4, 0.2, 0.0),\n",
       " (4.9, 3.0, 1.4, 0.2, 0.0),\n",
       " (4.7, 3.2, 1.3, 0.2, 0.0),\n",
       " (4.6, 3.1, 1.5, 0.2, 0.0),\n",
       " (5.0, 3.6, 1.4, 0.2, 0.0),\n",
       " (5.4, 3.9, 1.7, 0.4, 0.0),\n",
       " (4.6, 3.4, 1.4, 0.3, 0.0),\n",
       " (5.0, 3.4, 1.5, 0.2, 0.0),\n",
       " (4.4, 2.9, 1.4, 0.2, 0.0),\n",
       " (4.9, 3.1, 1.5, 0.1, 0.0),\n",
       " (5.4, 3.7, 1.5, 0.2, 0.0),\n",
       " (4.8, 3.4, 1.6, 0.2, 0.0),\n",
       " (4.8, 3.0, 1.4, 0.1, 0.0),\n",
       " (4.3, 3.0, 1.1, 0.1, 0.0),\n",
       " (5.8, 4.0, 1.2, 0.2, 0.0),\n",
       " (5.7, 4.4, 1.5, 0.4, 0.0),\n",
       " (5.4, 3.9, 1.3, 0.4, 0.0),\n",
       " (5.1, 3.5, 1.4, 0.3, 0.0),\n",
       " (5.7, 3.8, 1.7, 0.3, 0.0),\n",
       " (5.1, 3.8, 1.5, 0.3, 0.0),\n",
       " (5.4, 3.4, 1.7, 0.2, 0.0),\n",
       " (5.1, 3.7, 1.5, 0.4, 0.0),\n",
       " (4.6, 3.6, 1.0, 0.2, 0.0),\n",
       " (5.1, 3.3, 1.7, 0.5, 0.0),\n",
       " (4.8, 3.4, 1.9, 0.2, 0.0),\n",
       " (5.0, 3.0, 1.6, 0.2, 0.0),\n",
       " (5.0, 3.4, 1.6, 0.4, 0.0),\n",
       " (5.2, 3.5, 1.5, 0.2, 0.0),\n",
       " (5.2, 3.4, 1.4, 0.2, 0.0),\n",
       " (4.7, 3.2, 1.6, 0.2, 0.0),\n",
       " (4.8, 3.1, 1.6, 0.2, 0.0),\n",
       " (5.4, 3.4, 1.5, 0.4, 0.0),\n",
       " (5.2, 4.1, 1.5, 0.1, 0.0),\n",
       " (5.5, 4.2, 1.4, 0.2, 0.0),\n",
       " (4.9, 3.1, 1.5, 0.2, 0.0),\n",
       " (5.0, 3.2, 1.2, 0.2, 0.0),\n",
       " (5.5, 3.5, 1.3, 0.2, 0.0),\n",
       " (4.9, 3.6, 1.4, 0.1, 0.0),\n",
       " (4.4, 3.0, 1.3, 0.2, 0.0),\n",
       " (5.1, 3.4, 1.5, 0.2, 0.0),\n",
       " (5.0, 3.5, 1.3, 0.3, 0.0),\n",
       " (4.5, 2.3, 1.3, 0.3, 0.0),\n",
       " (4.4, 3.2, 1.3, 0.2, 0.0),\n",
       " (5.0, 3.5, 1.6, 0.6, 0.0),\n",
       " (5.1, 3.8, 1.9, 0.4, 0.0),\n",
       " (4.8, 3.0, 1.4, 0.3, 0.0),\n",
       " (5.1, 3.8, 1.6, 0.2, 0.0),\n",
       " (4.6, 3.2, 1.4, 0.2, 0.0),\n",
       " (5.3, 3.7, 1.5, 0.2, 0.0),\n",
       " (5.0, 3.3, 1.4, 0.2, 0.0),\n",
       " (7.0, 3.2, 4.7, 1.4, 1.0),\n",
       " (6.4, 3.2, 4.5, 1.5, 1.0),\n",
       " (6.9, 3.1, 4.9, 1.5, 1.0),\n",
       " (5.5, 2.3, 4.0, 1.3, 1.0),\n",
       " (6.5, 2.8, 4.6, 1.5, 1.0),\n",
       " (5.7, 2.8, 4.5, 1.3, 1.0),\n",
       " (6.3, 3.3, 4.7, 1.6, 1.0),\n",
       " (4.9, 2.4, 3.3, 1.0, 1.0),\n",
       " (6.6, 2.9, 4.6, 1.3, 1.0),\n",
       " (5.2, 2.7, 3.9, 1.4, 1.0),\n",
       " (5.0, 2.0, 3.5, 1.0, 1.0),\n",
       " (5.9, 3.0, 4.2, 1.5, 1.0),\n",
       " (6.0, 2.2, 4.0, 1.0, 1.0),\n",
       " (6.1, 2.9, 4.7, 1.4, 1.0),\n",
       " (5.6, 2.9, 3.6, 1.3, 1.0),\n",
       " (6.7, 3.1, 4.4, 1.4, 1.0),\n",
       " (5.6, 3.0, 4.5, 1.5, 1.0),\n",
       " (5.8, 2.7, 4.1, 1.0, 1.0),\n",
       " (6.2, 2.2, 4.5, 1.5, 1.0),\n",
       " (5.6, 2.5, 3.9, 1.1, 1.0),\n",
       " (5.9, 3.2, 4.8, 1.8, 1.0),\n",
       " (6.1, 2.8, 4.0, 1.3, 1.0),\n",
       " (6.3, 2.5, 4.9, 1.5, 1.0),\n",
       " (6.1, 2.8, 4.7, 1.2, 1.0),\n",
       " (6.4, 2.9, 4.3, 1.3, 1.0),\n",
       " (6.6, 3.0, 4.4, 1.4, 1.0),\n",
       " (6.8, 2.8, 4.8, 1.4, 1.0),\n",
       " (6.7, 3.0, 5.0, 1.7, 1.0),\n",
       " (6.0, 2.9, 4.5, 1.5, 1.0),\n",
       " (5.7, 2.6, 3.5, 1.0, 1.0),\n",
       " (5.5, 2.4, 3.8, 1.1, 1.0),\n",
       " (5.5, 2.4, 3.7, 1.0, 1.0),\n",
       " (5.8, 2.7, 3.9, 1.2, 1.0),\n",
       " (6.0, 2.7, 5.1, 1.6, 1.0),\n",
       " (5.4, 3.0, 4.5, 1.5, 1.0),\n",
       " (6.0, 3.4, 4.5, 1.6, 1.0),\n",
       " (6.7, 3.1, 4.7, 1.5, 1.0),\n",
       " (6.3, 2.3, 4.4, 1.3, 1.0),\n",
       " (5.6, 3.0, 4.1, 1.3, 1.0),\n",
       " (5.5, 2.5, 4.0, 1.3, 1.0),\n",
       " (5.5, 2.6, 4.4, 1.2, 1.0),\n",
       " (6.1, 3.0, 4.6, 1.4, 1.0),\n",
       " (5.8, 2.6, 4.0, 1.2, 1.0),\n",
       " (5.0, 2.3, 3.3, 1.0, 1.0),\n",
       " (5.6, 2.7, 4.2, 1.3, 1.0),\n",
       " (5.7, 3.0, 4.2, 1.2, 1.0),\n",
       " (5.7, 2.9, 4.2, 1.3, 1.0),\n",
       " (6.2, 2.9, 4.3, 1.3, 1.0),\n",
       " (5.1, 2.5, 3.0, 1.1, 1.0),\n",
       " (5.7, 2.8, 4.1, 1.3, 1.0),\n",
       " (6.3, 3.3, 6.0, 2.5, 2.0),\n",
       " (5.8, 2.7, 5.1, 1.9, 2.0),\n",
       " (7.1, 3.0, 5.9, 2.1, 2.0),\n",
       " (6.3, 2.9, 5.6, 1.8, 2.0),\n",
       " (6.5, 3.0, 5.8, 2.2, 2.0),\n",
       " (7.6, 3.0, 6.6, 2.1, 2.0),\n",
       " (4.9, 2.5, 4.5, 1.7, 2.0),\n",
       " (7.3, 2.9, 6.3, 1.8, 2.0),\n",
       " (6.7, 2.5, 5.8, 1.8, 2.0),\n",
       " (7.2, 3.6, 6.1, 2.5, 2.0),\n",
       " (6.5, 3.2, 5.1, 2.0, 2.0),\n",
       " (6.4, 2.7, 5.3, 1.9, 2.0),\n",
       " (6.8, 3.0, 5.5, 2.1, 2.0),\n",
       " (5.7, 2.5, 5.0, 2.0, 2.0),\n",
       " (5.8, 2.8, 5.1, 2.4, 2.0),\n",
       " (6.4, 3.2, 5.3, 2.3, 2.0),\n",
       " (6.5, 3.0, 5.5, 1.8, 2.0),\n",
       " (7.7, 3.8, 6.7, 2.2, 2.0),\n",
       " (7.7, 2.6, 6.9, 2.3, 2.0),\n",
       " (6.0, 2.2, 5.0, 1.5, 2.0),\n",
       " (6.9, 3.2, 5.7, 2.3, 2.0),\n",
       " (5.6, 2.8, 4.9, 2.0, 2.0),\n",
       " (7.7, 2.8, 6.7, 2.0, 2.0),\n",
       " (6.3, 2.7, 4.9, 1.8, 2.0),\n",
       " (6.7, 3.3, 5.7, 2.1, 2.0),\n",
       " (7.2, 3.2, 6.0, 1.8, 2.0),\n",
       " (6.2, 2.8, 4.8, 1.8, 2.0),\n",
       " (6.1, 3.0, 4.9, 1.8, 2.0),\n",
       " (6.4, 2.8, 5.6, 2.1, 2.0),\n",
       " (7.2, 3.0, 5.8, 1.6, 2.0),\n",
       " (7.4, 2.8, 6.1, 1.9, 2.0),\n",
       " (7.9, 3.8, 6.4, 2.0, 2.0),\n",
       " (6.4, 2.8, 5.6, 2.2, 2.0),\n",
       " (6.3, 2.8, 5.1, 1.5, 2.0),\n",
       " (6.1, 2.6, 5.6, 1.4, 2.0),\n",
       " (7.7, 3.0, 6.1, 2.3, 2.0),\n",
       " (6.3, 3.4, 5.6, 2.4, 2.0),\n",
       " (6.4, 3.1, 5.5, 1.8, 2.0),\n",
       " (6.0, 3.0, 4.8, 1.8, 2.0),\n",
       " (6.9, 3.1, 5.4, 2.1, 2.0),\n",
       " (6.7, 3.1, 5.6, 2.4, 2.0),\n",
       " (6.9, 3.1, 5.1, 2.3, 2.0),\n",
       " (5.8, 2.7, 5.1, 1.9, 2.0),\n",
       " (6.8, 3.2, 5.9, 2.3, 2.0),\n",
       " (6.7, 3.3, 5.7, 2.5, 2.0),\n",
       " (6.7, 3.0, 5.2, 2.3, 2.0),\n",
       " (6.3, 2.5, 5.0, 1.9, 2.0),\n",
       " (6.5, 3.0, 5.2, 2.0, 2.0),\n",
       " (6.2, 3.4, 5.4, 2.3, 2.0),\n",
       " (5.9, 3.0, 5.1, 1.8, 2.0)]"
      ]
     },
     "execution_count": 15,
     "metadata": {},
     "output_type": "execute_result"
    }
   ],
   "source": [
    "a"
   ]
  },
  {
   "cell_type": "code",
   "execution_count": 16,
   "id": "pursuant-tuition",
   "metadata": {},
   "outputs": [
    {
     "data": {
      "text/plain": [
       "(5.1, 3.5, 1.4, 0.2, 0.0)"
      ]
     },
     "execution_count": 16,
     "metadata": {},
     "output_type": "execute_result"
    }
   ],
   "source": [
    "a[0]"
   ]
  },
  {
   "cell_type": "code",
   "execution_count": 17,
   "id": "seven-cornell",
   "metadata": {},
   "outputs": [
    {
     "data": {
      "text/plain": [
       "sqlalchemy.engine.row.LegacyRow"
      ]
     },
     "execution_count": 17,
     "metadata": {},
     "output_type": "execute_result"
    }
   ],
   "source": [
    "type(a[0])"
   ]
  },
  {
   "cell_type": "markdown",
   "id": "hybrid-cisco",
   "metadata": {},
   "source": [
    "Te dane możemy skonwertować do data frame"
   ]
  },
  {
   "cell_type": "code",
   "execution_count": 18,
   "id": "taken-plane",
   "metadata": {},
   "outputs": [
    {
     "data": {
      "text/html": [
       "<div>\n",
       "<style scoped>\n",
       "    .dataframe tbody tr th:only-of-type {\n",
       "        vertical-align: middle;\n",
       "    }\n",
       "\n",
       "    .dataframe tbody tr th {\n",
       "        vertical-align: top;\n",
       "    }\n",
       "\n",
       "    .dataframe thead th {\n",
       "        text-align: right;\n",
       "    }\n",
       "</style>\n",
       "<table border=\"1\" class=\"dataframe\">\n",
       "  <thead>\n",
       "    <tr style=\"text-align: right;\">\n",
       "      <th></th>\n",
       "      <th>0</th>\n",
       "      <th>1</th>\n",
       "      <th>2</th>\n",
       "      <th>3</th>\n",
       "      <th>4</th>\n",
       "    </tr>\n",
       "  </thead>\n",
       "  <tbody>\n",
       "    <tr>\n",
       "      <th>0</th>\n",
       "      <td>5.1</td>\n",
       "      <td>3.5</td>\n",
       "      <td>1.4</td>\n",
       "      <td>0.2</td>\n",
       "      <td>0.0</td>\n",
       "    </tr>\n",
       "    <tr>\n",
       "      <th>1</th>\n",
       "      <td>4.9</td>\n",
       "      <td>3.0</td>\n",
       "      <td>1.4</td>\n",
       "      <td>0.2</td>\n",
       "      <td>0.0</td>\n",
       "    </tr>\n",
       "    <tr>\n",
       "      <th>2</th>\n",
       "      <td>4.7</td>\n",
       "      <td>3.2</td>\n",
       "      <td>1.3</td>\n",
       "      <td>0.2</td>\n",
       "      <td>0.0</td>\n",
       "    </tr>\n",
       "    <tr>\n",
       "      <th>3</th>\n",
       "      <td>4.6</td>\n",
       "      <td>3.1</td>\n",
       "      <td>1.5</td>\n",
       "      <td>0.2</td>\n",
       "      <td>0.0</td>\n",
       "    </tr>\n",
       "    <tr>\n",
       "      <th>4</th>\n",
       "      <td>5.0</td>\n",
       "      <td>3.6</td>\n",
       "      <td>1.4</td>\n",
       "      <td>0.2</td>\n",
       "      <td>0.0</td>\n",
       "    </tr>\n",
       "    <tr>\n",
       "      <th>...</th>\n",
       "      <td>...</td>\n",
       "      <td>...</td>\n",
       "      <td>...</td>\n",
       "      <td>...</td>\n",
       "      <td>...</td>\n",
       "    </tr>\n",
       "    <tr>\n",
       "      <th>145</th>\n",
       "      <td>6.7</td>\n",
       "      <td>3.0</td>\n",
       "      <td>5.2</td>\n",
       "      <td>2.3</td>\n",
       "      <td>2.0</td>\n",
       "    </tr>\n",
       "    <tr>\n",
       "      <th>146</th>\n",
       "      <td>6.3</td>\n",
       "      <td>2.5</td>\n",
       "      <td>5.0</td>\n",
       "      <td>1.9</td>\n",
       "      <td>2.0</td>\n",
       "    </tr>\n",
       "    <tr>\n",
       "      <th>147</th>\n",
       "      <td>6.5</td>\n",
       "      <td>3.0</td>\n",
       "      <td>5.2</td>\n",
       "      <td>2.0</td>\n",
       "      <td>2.0</td>\n",
       "    </tr>\n",
       "    <tr>\n",
       "      <th>148</th>\n",
       "      <td>6.2</td>\n",
       "      <td>3.4</td>\n",
       "      <td>5.4</td>\n",
       "      <td>2.3</td>\n",
       "      <td>2.0</td>\n",
       "    </tr>\n",
       "    <tr>\n",
       "      <th>149</th>\n",
       "      <td>5.9</td>\n",
       "      <td>3.0</td>\n",
       "      <td>5.1</td>\n",
       "      <td>1.8</td>\n",
       "      <td>2.0</td>\n",
       "    </tr>\n",
       "  </tbody>\n",
       "</table>\n",
       "<p>150 rows × 5 columns</p>\n",
       "</div>"
      ],
      "text/plain": [
       "       0    1    2    3    4\n",
       "0    5.1  3.5  1.4  0.2  0.0\n",
       "1    4.9  3.0  1.4  0.2  0.0\n",
       "2    4.7  3.2  1.3  0.2  0.0\n",
       "3    4.6  3.1  1.5  0.2  0.0\n",
       "4    5.0  3.6  1.4  0.2  0.0\n",
       "..   ...  ...  ...  ...  ...\n",
       "145  6.7  3.0  5.2  2.3  2.0\n",
       "146  6.3  2.5  5.0  1.9  2.0\n",
       "147  6.5  3.0  5.2  2.0  2.0\n",
       "148  6.2  3.4  5.4  2.3  2.0\n",
       "149  5.9  3.0  5.1  1.8  2.0\n",
       "\n",
       "[150 rows x 5 columns]"
      ]
     },
     "execution_count": 18,
     "metadata": {},
     "output_type": "execute_result"
    }
   ],
   "source": [
    "pd.DataFrame(a)"
   ]
  },
  {
   "cell_type": "code",
   "execution_count": 19,
   "id": "welcome-poultry",
   "metadata": {},
   "outputs": [
    {
     "data": {
      "text/html": [
       "<div>\n",
       "<style scoped>\n",
       "    .dataframe tbody tr th:only-of-type {\n",
       "        vertical-align: middle;\n",
       "    }\n",
       "\n",
       "    .dataframe tbody tr th {\n",
       "        vertical-align: top;\n",
       "    }\n",
       "\n",
       "    .dataframe thead th {\n",
       "        text-align: right;\n",
       "    }\n",
       "</style>\n",
       "<table border=\"1\" class=\"dataframe\">\n",
       "  <thead>\n",
       "    <tr style=\"text-align: right;\">\n",
       "      <th></th>\n",
       "      <th>name</th>\n",
       "    </tr>\n",
       "  </thead>\n",
       "  <tbody>\n",
       "    <tr>\n",
       "      <th>0</th>\n",
       "      <td>User 1</td>\n",
       "    </tr>\n",
       "    <tr>\n",
       "      <th>1</th>\n",
       "      <td>User 2</td>\n",
       "    </tr>\n",
       "    <tr>\n",
       "      <th>2</th>\n",
       "      <td>User 3</td>\n",
       "    </tr>\n",
       "  </tbody>\n",
       "</table>\n",
       "</div>"
      ],
      "text/plain": [
       "     name\n",
       "0  User 1\n",
       "1  User 2\n",
       "2  User 3"
      ]
     },
     "execution_count": 19,
     "metadata": {},
     "output_type": "execute_result"
    }
   ],
   "source": [
    "df2 = pd.DataFrame({'name' : ['User 1', 'User 2', 'User 3']})\n",
    "df2"
   ]
  },
  {
   "cell_type": "code",
   "execution_count": 47,
   "id": "broadband-prize",
   "metadata": {},
   "outputs": [],
   "source": [
    "df2.to_sql('users', con=engine, if_exists=\"replace\",index=True)\n",
    "#engine.execute(\"SELECT * FROM users\").fetchall()"
   ]
  },
  {
   "cell_type": "code",
   "execution_count": 48,
   "id": "suspected-connecticut",
   "metadata": {},
   "outputs": [],
   "source": [
    "df3 = pd.DataFrame({'name' : ['User 6', 'User 7']})\n",
    "df3.to_sql('users', con=engine, if_exists='append')"
   ]
  },
  {
   "cell_type": "code",
   "execution_count": 49,
   "id": "explicit-ambassador",
   "metadata": {
    "scrolled": true
   },
   "outputs": [
    {
     "data": {
      "text/plain": [
       "[(0, 'User 1'), (1, 'User 2'), (2, 'User 3'), (0, 'User 6'), (1, 'User 7')]"
      ]
     },
     "execution_count": 49,
     "metadata": {},
     "output_type": "execute_result"
    }
   ],
   "source": [
    "engine.execute(\"SELECT * FROM users\").fetchall()"
   ]
  },
  {
   "cell_type": "code",
   "execution_count": 50,
   "id": "chicken-artwork",
   "metadata": {},
   "outputs": [],
   "source": [
    "from sqlalchemy import create_engine\n",
    "from sqlalchemy import Column, String, Integer\n",
    "from sqlalchemy.ext.declarative import declarative_base\n",
    "from sqlalchemy.orm import sessionmaker"
   ]
  },
  {
   "cell_type": "code",
   "execution_count": 51,
   "id": "forbidden-imagination",
   "metadata": {},
   "outputs": [],
   "source": [
    "engine = create_engine('sqlite:///irysy2.db')\n",
    "base = declarative_base()"
   ]
  },
  {
   "cell_type": "code",
   "execution_count": 52,
   "id": "accompanied-capacity",
   "metadata": {},
   "outputs": [
    {
     "data": {
      "text/plain": [
       "sqlalchemy.orm.decl_api.DeclarativeMeta"
      ]
     },
     "execution_count": 52,
     "metadata": {},
     "output_type": "execute_result"
    }
   ],
   "source": [
    "type(base)"
   ]
  },
  {
   "cell_type": "code",
   "execution_count": 53,
   "id": "detailed-publisher",
   "metadata": {
    "scrolled": true
   },
   "outputs": [],
   "source": [
    "class Transakcje(base):\n",
    "    \n",
    "    __tablename__ = 'transakcje'\n",
    "    \n",
    "    transakcja_id = Column(Integer, primary_key=True)\n",
    "    data = Column(String)\n",
    "    przedmiot_id = Column(Integer)\n",
    "    cena = Column(Integer)\n",
    "    \n",
    "    def __init__(self, transakcja_id, data, przedmiot_id, cena):\n",
    "        self.transakcja_id = transakcja_id\n",
    "        self.data = data\n",
    "        self.przedmiot_id = przedmiot_id\n",
    "        self.cena = cena"
   ]
  },
  {
   "cell_type": "code",
   "execution_count": 56,
   "id": "optional-steal",
   "metadata": {},
   "outputs": [],
   "source": [
    "class Kwiaty(base):\n",
    "    \n",
    "    __tablename__ = 'irysy'\n",
    "    \n",
    "    kwiat_id   = Column(Integer, primary_key=True)\n",
    "    dzial_dlug = Column(Integer)\n",
    "    dzial_szer = Column(Integer)\n",
    "    plat_dlug  = Column(Integer)\n",
    "    plat_szer  = Column(Integer)\n",
    "    \n",
    "    def __init__(self, kwiat_id, dzial_dlug, dzial_szer, plat_dlug, plat_szer):\n",
    "        self.kwiat_id = kwiat_id\n",
    "        self.dzial_dlug = dzial_dlug\n",
    "        self.dzial_szer = dzial_szer\n",
    "        self.plat_dlug = plat_dlug\n",
    "        self.plat_szer = plat_szer"
   ]
  },
  {
   "cell_type": "code",
   "execution_count": null,
   "id": "indie-orlando",
   "metadata": {},
   "outputs": [],
   "source": [
    "# tworzenie tabel\n",
    "base.metadata.create_all(engine)"
   ]
  },
  {
   "cell_type": "code",
   "execution_count": null,
   "id": "faced-capital",
   "metadata": {},
   "outputs": [],
   "source": [
    "from sqlalchemy.orm import sessionmaker\n",
    "# Stworzenie nowej sesji\n",
    "Session = sessionmaker(bind=engine)\n",
    "session = Session()\n",
    "# dodanie danych\n",
    "for t in range(10):\n",
    "    tr = Transakcje(t, f'200{t}/05/06', t**2-t*2, 19)\n",
    "    session.add(tr)\n",
    "# zapis zmian w bazie danych\n",
    "session.commit()"
   ]
  },
  {
   "cell_type": "code",
   "execution_count": null,
   "id": "communist-mechanism",
   "metadata": {},
   "outputs": [],
   "source": [
    "Session = sessionmaker(bind=engine)\n",
    "session = Session()\n",
    "# dodanie danych\n",
    "for t in range(df.shape[0]):\n",
    "    tr = Kwiaty(t, df.iloc[t,0], df.iloc[t,1], df.iloc[t,2],df.iloc[t,3])\n",
    "    session.add(tr)\n",
    "# zapis zmian w bazie danych\n",
    "session.commit()"
   ]
  },
  {
   "cell_type": "code",
   "execution_count": null,
   "id": "signed-equality",
   "metadata": {
    "scrolled": true
   },
   "outputs": [],
   "source": [
    "engine.execute(\"SELECT * FROM irysy\").fetchall()"
   ]
  },
  {
   "cell_type": "code",
   "execution_count": null,
   "id": "noted-johnston",
   "metadata": {},
   "outputs": [],
   "source": [
    "df.shape[0]"
   ]
  },
  {
   "cell_type": "code",
   "execution_count": null,
   "id": "preliminary-nursery",
   "metadata": {},
   "outputs": [],
   "source": [
    "df.iloc[0,0]"
   ]
  },
  {
   "cell_type": "code",
   "execution_count": null,
   "id": "grateful-insulation",
   "metadata": {},
   "outputs": [],
   "source": [
    "df.iloc[0,0]"
   ]
  },
  {
   "cell_type": "code",
   "execution_count": null,
   "id": "micro-quest",
   "metadata": {},
   "outputs": [],
   "source": [
    "engine.execute(\"SELECT * FROM Transakcje\").fetchall()"
   ]
  },
  {
   "cell_type": "code",
   "execution_count": null,
   "id": "complimentary-retailer",
   "metadata": {},
   "outputs": [],
   "source": [
    "Session = sessionmaker(bind=engine)\n",
    "session = Session()\n",
    "# dodanie danych\n",
    "for t in range(10):\n",
    "    tr = Transakcje2(t, f'200{t}/05/06', t**2-t*2, 19)\n",
    "    session.add(tr)\n",
    "# zapis zmian w bazie danych\n",
    "session.commit()"
   ]
  },
  {
   "cell_type": "code",
   "execution_count": null,
   "id": "operational-compact",
   "metadata": {},
   "outputs": [],
   "source": [
    "engine.execute(\"SELECT * FROM transakcje\").fetchall()"
   ]
  },
  {
   "cell_type": "code",
   "execution_count": null,
   "id": "broadband-emerald",
   "metadata": {},
   "outputs": [],
   "source": [
    "# wszystkie dane\n",
    "for s in session.query(Transakcje).all():\n",
    "    print(s.transakcja_id, s.data)"
   ]
  },
  {
   "cell_type": "code",
   "execution_count": null,
   "id": "improving-criterion",
   "metadata": {},
   "outputs": [],
   "source": [
    "# wybrane transakcje\n",
    "for s in session.query(Transakcje).filter(Transakcje.transakcja_id>5):\n",
    "    print(s.transakcja_id, s.data)"
   ]
  },
  {
   "cell_type": "code",
   "execution_count": null,
   "id": "extra-cable",
   "metadata": {},
   "outputs": [],
   "source": [
    "# wybrane Kwiaty\n",
    "for s in session.query(Kwiaty).filter(Kwiaty.dzial_dlug>5):\n",
    "    print(s.kwiat_id, s.dzial_dlug)"
   ]
  },
  {
   "cell_type": "code",
   "execution_count": null,
   "id": "sunset-vanilla",
   "metadata": {},
   "outputs": [],
   "source": [
    "import json"
   ]
  },
  {
   "cell_type": "markdown",
   "id": "hairy-representation",
   "metadata": {},
   "source": [
    "JSON - Java Script Object Notation (ale w żaden sposób nie jest połączony z Java Scriptem czy żadnym innym językiem).  \n",
    "JSON to sposób na lekki format wymiany danych.  \n",
    "W JSON są czyste dane, nie ma tam jakichś zmiennych czy fukncji. Popularyazcja jego nastąpiła od mniej więcej 2001. Teraz jest używanie prawie, że domyślnie do wymiany danych między aplikacjami."
   ]
  },
  {
   "cell_type": "code",
   "execution_count": null,
   "id": "apart-governor",
   "metadata": {},
   "outputs": [],
   "source": [
    "from IPython.display import HTML\n",
    "from IPython.display import Image"
   ]
  },
  {
   "cell_type": "code",
   "execution_count": null,
   "id": "cutting-plymouth",
   "metadata": {},
   "outputs": [],
   "source": [
    "HTML('<iframe width=\"560\" height=\"315\" src=\"https://www.youtube.com/embed/haYYypSnOTY\" title=\"YouTube video player\" frameborder=\"0\" allow=\"accelerometer; autoplay; clipboard-write; encrypted-media; gyroscope; picture-in-picture\" allowfullscreen></iframe>')"
   ]
  },
  {
   "cell_type": "code",
   "execution_count": null,
   "id": "immune-royalty",
   "metadata": {},
   "outputs": [],
   "source": [
    "person = '{\"name\": \"Bob\", \"languages\": [\"English\", \"French\"]}'\n",
    "type(person)"
   ]
  },
  {
   "cell_type": "code",
   "execution_count": null,
   "id": "smart-knight",
   "metadata": {},
   "outputs": [],
   "source": [
    "person"
   ]
  },
  {
   "cell_type": "code",
   "execution_count": null,
   "id": "answering-modeling",
   "metadata": {},
   "outputs": [],
   "source": [
    "person_dict = json.loads(person)\n",
    "\n",
    "# Output: {'name': 'Bob', 'languages': ['English', 'Fench']}\n",
    "print(person_dict)\n",
    "\n",
    "# Output: ['English', 'French']\n",
    "print(person_dict['languages'])"
   ]
  },
  {
   "cell_type": "code",
   "execution_count": null,
   "id": "scenic-clone",
   "metadata": {},
   "outputs": [],
   "source": [
    "person_dict"
   ]
  },
  {
   "cell_type": "code",
   "execution_count": null,
   "id": "verified-allah",
   "metadata": {},
   "outputs": [],
   "source": [
    "type(person_dict)"
   ]
  },
  {
   "cell_type": "code",
   "execution_count": null,
   "id": "emotional-trader",
   "metadata": {},
   "outputs": [],
   "source": [
    "%%file test5.json\n",
    "\n",
    "\n",
    "{\"name\": \"Bob\", \n",
    "\"languages\": [\"English\", \"French\"]\n",
    "}"
   ]
  },
  {
   "cell_type": "code",
   "execution_count": null,
   "id": "swiss-proposition",
   "metadata": {},
   "outputs": [],
   "source": [
    "with open('test.json') as f:\n",
    "    data = json.load(f)\n",
    "\n",
    "# Output: {'name': 'Bob', 'languages': ['English', 'Fench']}\n",
    "print(data)"
   ]
  },
  {
   "cell_type": "code",
   "execution_count": null,
   "id": "activated-replica",
   "metadata": {},
   "outputs": [],
   "source": [
    "type(data)"
   ]
  },
  {
   "cell_type": "code",
   "execution_count": null,
   "id": "plastic-irrigation",
   "metadata": {},
   "outputs": [],
   "source": [
    "data['name']"
   ]
  },
  {
   "cell_type": "code",
   "execution_count": null,
   "id": "crude-philippines",
   "metadata": {},
   "outputs": [],
   "source": [
    "data['languages']"
   ]
  },
  {
   "cell_type": "code",
   "execution_count": null,
   "id": "existing-kennedy",
   "metadata": {},
   "outputs": [],
   "source": [
    "person_dict = {'name': 'Bob',\n",
    "'age': 12,\n",
    "'children': None\n",
    "}\n",
    "\n",
    "person_json = json.dumps(person_dict)\n",
    "print(person_json)"
   ]
  },
  {
   "cell_type": "code",
   "execution_count": null,
   "id": "designed-savannah",
   "metadata": {},
   "outputs": [],
   "source": [
    "with open('person2.json', 'w') as json_file:\n",
    "    json.dump(person_dict, json_file)"
   ]
  },
  {
   "cell_type": "code",
   "execution_count": null,
   "id": "collectible-guarantee",
   "metadata": {},
   "outputs": [],
   "source": [
    "print(json.dumps(person_dict, indent = 4, sort_keys=True))"
   ]
  },
  {
   "cell_type": "code",
   "execution_count": null,
   "id": "included-nashville",
   "metadata": {},
   "outputs": [],
   "source": [
    "!pip install flask\n",
    "!pip install flask_restful\n",
    "!pip install flask_jsonpify"
   ]
  },
  {
   "cell_type": "code",
   "execution_count": null,
   "id": "grateful-spyware",
   "metadata": {},
   "outputs": [],
   "source": [
    "from flask import Flask, request\n",
    "from flask_restful import Resource, Api\n",
    "from flask_jsonpify import jsonify"
   ]
  },
  {
   "cell_type": "code",
   "execution_count": null,
   "id": "cellular-means",
   "metadata": {},
   "outputs": [],
   "source": [
    "app  = Flask(__name__)\n",
    "api = Api(app)\n",
    "\n",
    "@app.route('/')\n",
    "@app.route('/index')\n",
    "def home():\n",
    "    #return render_template('home.html')\n",
    "    return \"Strona poczatkowa\"\n",
    "\n",
    "@app.route('/hello/<name>')\n",
    "def success(name):\n",
    "    return f'<h1>{name}</h1>'"
   ]
  },
  {
   "cell_type": "code",
   "execution_count": null,
   "id": "breeding-partner",
   "metadata": {},
   "outputs": [],
   "source": [
    "class Main(Resource):\n",
    "    def get(self):\n",
    "        return jsonify(\"Hello world\")"
   ]
  },
  {
   "cell_type": "code",
   "execution_count": null,
   "id": "turned-handling",
   "metadata": {},
   "outputs": [],
   "source": [
    "api.add_resource(Main,'/test')"
   ]
  },
  {
   "cell_type": "code",
   "execution_count": null,
   "id": "broad-arcade",
   "metadata": {},
   "outputs": [],
   "source": [
    "class Irys(Resource):\n",
    "    \n",
    "    def get(self):\n",
    "        conn=engine.connect()\n",
    "        query = conn.execute('select * from irysy')\n",
    "        result = {'dane':[i for i in query.cursor.fetchall()]}\n",
    "        return jsonify(result)"
   ]
  },
  {
   "cell_type": "code",
   "execution_count": null,
   "id": "professional-referral",
   "metadata": {},
   "outputs": [],
   "source": [
    "api.add_resource(Irys, '/irys')"
   ]
  },
  {
   "cell_type": "code",
   "execution_count": null,
   "id": "baking-semester",
   "metadata": {},
   "outputs": [],
   "source": [
    "app.run(port='5002')"
   ]
  }
 ],
 "metadata": {
  "kernelspec": {
   "display_name": "Python 3",
   "language": "python",
   "name": "python3"
  },
  "language_info": {
   "codemirror_mode": {
    "name": "ipython",
    "version": 3
   },
   "file_extension": ".py",
   "mimetype": "text/x-python",
   "name": "python",
   "nbconvert_exporter": "python",
   "pygments_lexer": "ipython3",
   "version": "3.6.13"
  }
 },
 "nbformat": 4,
 "nbformat_minor": 5
}
